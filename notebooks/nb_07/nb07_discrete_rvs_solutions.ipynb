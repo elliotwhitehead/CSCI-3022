{
 "cells": [
  {
   "cell_type": "markdown",
   "metadata": {},
   "source": [
    "# Notebook 7: Discrete Random Variables and Distributions \n",
    "***\n",
    "\n",
    "In this notebook we'll get some more practice with discrete random variables and see how we can play with binomial distributions using Python.   \n",
    "\n",
    "We'll need Numpy and Matplotlib for this notebook, so let's load them.  We'll also need SciPy's binom function for computing binomial coefficients.  "
   ]
  },
  {
   "cell_type": "code",
   "execution_count": 1,
   "metadata": {},
   "outputs": [],
   "source": [
    "import numpy as np \n",
    "import matplotlib.pylab as plt \n",
    "from scipy.special import binom\n",
    "%matplotlib inline"
   ]
  },
  {
   "cell_type": "markdown",
   "metadata": {},
   "source": [
    "### Exercise 1 - Loaded Dice \n",
    "*** \n",
    "\n",
    "Consider a loaded six-sided die.  \n",
    "\n",
    "**Part A**: Suppose that the die is loaded such that you are twice as likely to roll either a $1$, $2$, or $3$, than you are to roll either a $4$, $5$, or $6$. Let $X$ be a random variable describing the die.  What is the probability mass function for $X$? "
   ]
  },
  {
   "cell_type": "markdown",
   "metadata": {},
   "source": [
    "**Solution**:\n",
    "\n",
    "Let's write down the relationship between the probabilities of each of the values of $X$.  We have \n",
    "\n",
    "$$\n",
    "p(1) = p(2) = p(3) = 2p(4) = 2p(5) = 2p(6)\n",
    "$$\n",
    "\n",
    "Next we write down the condition that the probabilities must sum to 1.  We have \n",
    "\n",
    "$$\n",
    "1 = p(1) + p(2) + p(3) + p(4) + p(5) + p(6) \n",
    "$$\n",
    "\n",
    "Writing each probability in terms of $p(1)$ from the first set of equations, we have \n",
    "\n",
    "$$\n",
    "1 = p(1) + p(1) + p(1) + \\frac{1}{2}p(1) + \\frac{1}{2}p(1) + \\frac{1}{2}p(1) = \\frac{9}{2}p(1)\n",
    "$$\n",
    "\n",
    "Solving for $p(1)$ we have \n",
    "\n",
    "$$\n",
    "p(1) = \\frac{2}{9}\n",
    "$$\n",
    "\n",
    "Plugging this into the relationships with $p(1)$, we have \n",
    "\n",
    "$$\\begin{array}{c|ccccc}\n",
    "a & 1 & 2 & 3 & 4 & 5 & 6 \\\\\n",
    "\\hline\n",
    "p(a) & \\frac{2}{9} & \\frac{2}{9} & \\frac{2}{9} & \\frac{1}{9} & \\frac{1}{9} & \\frac{1}{9} \\\\\n",
    "\\end{array}$$"
   ]
  },
  {
   "cell_type": "markdown",
   "metadata": {},
   "source": [
    "**Part B**: Find the cumulative distribution function for $X$.  What is the probability that you roll a $4$ or lower with the loaded die? "
   ]
  },
  {
   "cell_type": "markdown",
   "metadata": {},
   "source": [
    "**Solution**: \n",
    "\n",
    "The cumulative distribution function is \n",
    "\n",
    "$$\\begin{array}{c|ccccc}\n",
    "a & 1 & 2 & 3 & 4 & 5 & 6 \\\\\n",
    "\\hline\n",
    "F(a) & \\frac{2}{9} & \\frac{4}{9} & \\frac{6}{9} & \\frac{7}{9} & \\frac{8}{9} & 1 \\\\\n",
    "\\end{array}$$\n",
    "\n",
    "The probability that we roll a 4 or lower is then \n",
    "\n",
    "$$\n",
    "F(4) = P(X \\leq 4) = \\frac{7}{9}\n",
    "$$"
   ]
  },
  {
   "cell_type": "markdown",
   "metadata": {},
   "source": [
    "**Warm-up for Exercise 2**\n",
    "Consider the experiment of flipping a bias coin 4 times. $P(H) = 0.75$ and $P(T) = 0.25$\n",
    "What is the probability mass function? Consider tails to be 'success'.\n",
    "\n",
    "ANS:\n",
    "\n",
    "$\\binom40(.25)^0(.75)^4 = \\frac{81}{256} \\approx .316\\phantom{xxxx}$   The probability of 0 Tails out of 4 flips.\n",
    "\n",
    "$\\binom41(.25)^1(.75)^3 = \\frac{108}{256} \\approx .422\\phantom{xxxx}$  The probability of 1 Tail out of 4 flips.\n",
    "\n",
    "$\\binom42(.25)^2(.75)^2 = \\frac{54}{256} \\approx .211\\phantom{xxxx}$  The probability of 2 Tails out of 4 flips.\n",
    "\n",
    "$\\binom43(.25)^3(.75)^1 = \\frac{12}{256} \\approx .047\\phantom{xxxx}$  The probability of 3 Tails out of 4 flips.\n",
    "\n",
    "$\\binom44(.25)^4(.75)^0 = \\frac{1}{256} \\approx .004\\phantom{xxxx}$  The probability of 4 Tails out of 4 flips.\n",
    "\n",
    "The PDF\n",
    "$\\begin{array}{c|ccccc}\n",
    "a & 0 & 1 & 2 & 3 & 4 \\\\\n",
    "\\hline\n",
    "f(a) & \\frac{81}{256} & \\frac{108}{256} & \\frac{54}{256} & \\frac{12}{256} & \\frac{1}{256} \\\\\n",
    "\\end{array}$\n",
    "\n",
    "The CDF\n",
    "$\\begin{array}{c|ccccc}\n",
    "a & 0 & 1 & 2 & 3 & 4 \\\\\n",
    "\\hline\n",
    "F(a) & \\frac{81}{256} & \\frac{189}{256} & \\frac{243}{256} & \\frac{255}{256} & \\frac{256}{256} \\\\\n",
    "\\end{array}$"
   ]
  },
  {
   "cell_type": "markdown",
   "metadata": {},
   "source": [
    "### Exercise 2 - Implementing and Sampling the Binomial Distribution \n",
    "***\n",
    "\n",
    "**Part A**: Write a $\\color{red}{\\text{function}}$ that takes in the parameters of the binomial distribution, $n$ and $p$, and $\\color{red}{\\text{returns the probability mass function}}$ as a Numpy array. In order to get the coefficient in the binomial distribution, you'll need a way to compute ${n \\choose k}$.  You can do this from scratch using Python's factorial function, or you can get the value directly using Scipy's canned function [binom](https://docs.scipy.org/doc/scipy-0.14.0/reference/generated/scipy.special.binom.html).  "
   ]
  },
  {
   "cell_type": "code",
   "execution_count": 2,
   "metadata": {},
   "outputs": [
    {
     "name": "stdout",
     "output_type": "stream",
     "text": [
      "0 | 0.0010\n",
      "1 | 0.0098\n",
      "2 | 0.0439\n",
      "3 | 0.1172\n",
      "4 | 0.2051\n",
      "5 | 0.2461\n",
      "6 | 0.2051\n",
      "7 | 0.1172\n",
      "8 | 0.0439\n",
      "9 | 0.0098\n",
      "10 | 0.0010\n"
     ]
    }
   ],
   "source": [
    "def binomial_pmf(n, p):\n",
    "    pmf = np.array([binom(n,k)*(p**k)*((1-p)**(n-k)) for k in range(n+1)])\n",
    "    return pmf\n",
    "\n",
    "pmf = binomial_pmf(10, 0.5)\n",
    "for k, prob in enumerate(pmf):\n",
    "    print(\"{} | {:0.4f}\".format(k, prob))\n",
    "    \n",
    "# Here is a check that your binomial_pmf function at least sums to 1\n",
    "assert np.sum(pmf)==1, \"Error: pmf does not add up to 1\""
   ]
  },
  {
   "cell_type": "markdown",
   "metadata": {},
   "source": [
    "For instance $\\binom{10}{1}(\\frac{1}{2})\\cdot(\\frac{1}{2})^9 = \\frac{5}{512}\\approx .009766$ as seen in row '1'."
   ]
  },
  {
   "cell_type": "markdown",
   "metadata": {},
   "source": [
    "In Python, a $\\color{red}{\\text{for loop}}$ is usually written as a loop over an iterable object. This means you $\\color{blue}{\\text{don’t need}}$ a counting variable to access items in the iterable. Sometimes, though, $\\color{blue}{\\text{you do want}}$ to have a variable that changes on each loop iteration. Rather than creating and incrementing a variable yourself, you can use Python’s `enumerate()` to get a counter and the value from the iterable at the same time!"
   ]
  },
  {
   "cell_type": "code",
   "execution_count": 3,
   "metadata": {},
   "outputs": [
    {
     "data": {
      "text/plain": [
       "0.1611328125"
      ]
     },
     "execution_count": 3,
     "metadata": {},
     "output_type": "execute_result"
    }
   ],
   "source": [
    "np.sum(binomial_pmf(10, 0.5)[7:9])\n",
    "# This sums the previous pmf values from indices 7 and 8.\n",
    "# Just an idea to check values, i.e. the CDF"
   ]
  },
  {
   "cell_type": "code",
   "execution_count": 4,
   "metadata": {},
   "outputs": [
    {
     "data": {
      "text/plain": [
       "45.0"
      ]
     },
     "execution_count": 4,
     "metadata": {},
     "output_type": "execute_result"
    }
   ],
   "source": [
    "binom(10,8)\n",
    "#just verifying the `binom` function"
   ]
  },
  {
   "cell_type": "markdown",
   "metadata": {},
   "source": [
    "**Part B**: So now you know the exact distribution of a binomial random variable, but very frequently we'll want to generate samples from that distribution.  You can do that with Numpy's [binomial](https://docs.scipy.org/doc/numpy-1.13.0/reference/generated/numpy.random.binomial.html) function. Read the documentation, and then try drawing 20 samples from _Bin(n,p)_ for $n=10$ and $p=0.25$. \n",
    "\n",
    "Concretely, think of flipping a bias coin 10 times. You want to know how many successes (Tails) you would get in 10 flips with P(H) = .75 and P(T) = .25. Therefore, you $\\color{red}{\\text{sample}}$ (20 times) a distribution with these characteristics; _Bin(10, .25)_."
   ]
  },
  {
   "cell_type": "code",
   "execution_count": 5,
   "metadata": {},
   "outputs": [
    {
     "name": "stdout",
     "output_type": "stream",
     "text": [
      "[2 3 4 3 3 3 5 3 2 4 3 0 1 1 1 3 3 2 2 4]\n"
     ]
    }
   ],
   "source": [
    "x = np.random.binomial(n=10, p=0.25, size=20)\n",
    "print(x)"
   ]
  },
  {
   "cell_type": "markdown",
   "metadata": {},
   "source": [
    "**Part C**: We can approximate the pmf of _Bin(n,p)_ by drawing $\\color{red}{\\text{many many}}$ samples from the distribution and plotting a **density** $\\color{blue}{\\text{histogram}}$.  Do this now.  Additionally, use the function you wrote in **Part A** to get the $\\color{blue}{\\text{exact density}}$, and plot the distribution directly below the histogram of your sampled distribution.  How do they compare?  What happens if you use more or fewer samples in the histogram? "
   ]
  },
  {
   "cell_type": "code",
   "execution_count": 6,
   "metadata": {},
   "outputs": [
    {
     "data": {
      "image/png": "[encoded data removed]",
      "text/plain": [
       "<Figure size 432x288 with 2 Axes>"
      ]
     },
     "metadata": {},
     "output_type": "display_data"
    }
   ],
   "source": [
    "n = 10\n",
    "p = 0.25\n",
    "\n",
    "sample = np.random.binomial(n=n, p=p, size=10000)\n",
    "  # A sample from which to build our histogram estimate\n",
    "bins = np.arange(-0.5, 11.5, 1)\n",
    "\n",
    "X = np.array(range(n+1))\n",
    "pmf = binomial_pmf(n=10, p=0.25)\n",
    "  # The exact density distribution\n",
    "\n",
    "fig, ax = plt.subplots(nrows=2, ncols=1)\n",
    "  # initialize the graph\n",
    "\n",
    "# ax[0] is the estimate of the pmf from the sample\n",
    "ax[0].hist(sample, edgecolor='white', density=True, bins=bins, rwidth=0.8)\n",
    "ax[0].set_axisbelow(True)\n",
    "ax[0].grid(alpha=0.25)\n",
    "ax[0].set_xlim([-0.7, 10.7]);\n",
    "\n",
    "# ax[1] is the actual pmf\n",
    "ax[1].bar(X, pmf)\n",
    "ax[1].set_axisbelow(True)\n",
    "ax[1].grid(alpha=0.25);"
   ]
  },
  {
   "cell_type": "markdown",
   "metadata": {},
   "source": [
    "### Exercise 3 - Predicting Play-off Winners \n",
    "***\n",
    "\n",
    "In this exercise we'll look at the probability of your favorite sports team winning a best-of-7 play-off series. Suppose your team is the slight favorite in the series and in each individual game has a probability of winning of $p = 0.55$. \n",
    "\n",
    "**Part A**: What is the probability that your team wins the series? "
   ]
  },
  {
   "cell_type": "markdown",
   "metadata": {},
   "source": [
    "**Solution:**\n",
    "\n",
    "Could win on 4th game, 5th game, 6th game or 7th game\n",
    "\n",
    "Winning in the 4th game:  ${4 \\choose 4}\\cdot p^4$\n",
    "\n",
    "Have to $\\color{red}{\\text{win the last game}}$, so out of the 4 previous games, choose 3 for team to win:\n",
    "\n",
    "Winning in the 5th game:  ${4 \\choose 3}\\cdot p^3 \\cdot (1-p) \\cdot \\color{red}{p}$\n",
    "\n",
    "Have to $\\color{red}{\\text{win the last game}}$, so out of the 5 previous games, choose 3 for team to win:\n",
    "\n",
    "Winning in the 6th game: ${5 \\choose 3}\\cdot p^3 \\cdot (1-p)^2 \\cdot \\color{red}{p}$\n",
    "\n",
    "Have to $\\color{red}{\\text{win the last game}}$, so out of the 6 previous games, choose 3 for team to win:\n",
    "\n",
    "Winning in the 7th game: ${6 \\choose 3} \\cdot p^3 \\cdot (1-p)^3 \\cdot \\color{red}{p}$"
   ]
  },
  {
   "cell_type": "code",
   "execution_count": 7,
   "metadata": {},
   "outputs": [
    {
     "name": "stdout",
     "output_type": "stream",
     "text": [
      "Theoretically calculated solution for 7-game series at 0.55:\n",
      "probability of winning best-of-7: 0.608\n",
      "\n",
      "Theoretically calculated solution for x-game series at p: \n",
      "probability of winning best-of-7: 0.608\n"
     ]
    }
   ],
   "source": [
    "p = 0.55\n",
    "prob_win = binom(4,4)*(p**4) + binom(4,3)*(p**4)*(1-p) + \\\n",
    "           binom(5,3)*(p**4)*((1-p)**2) + binom(6,3)*(p**4)*((1-p)**3)\n",
    "\n",
    "print(\"Theoretically calculated solution for 7-game series at 0.55:\")\n",
    "print('probability of winning best-of-7: {:.3f}'.format(prob_win))\n",
    "print(\"\")\n",
    "\n",
    "def p_binom(n, k, p):\n",
    "    return binom(n,k)*(p**k)*((1-p)**(n-k))\n",
    "\n",
    "#def prob_win_series(series_length=7, p=0.5):\n",
    "#    wins_req = series_length//2 + 1 \n",
    "#    prob = p*np.sum([p_binom(n,wins_req-1,p) for n in range(wins_req-1,series_length)])\n",
    "#    return prob\n",
    "\n",
    "def prob_win_series(series_length=7, p_win=0.5):\n",
    "    wins_req = series_length//2 + 1\n",
    "    prob = p_win*np.sum([p_binom(n, wins_req-1, p_win) for n in range(wins_req-1, series_length)])\n",
    "    return prob\n",
    "\n",
    "prob_win = prob_win_series(7, 0.55)\n",
    "print(\"Theoretically calculated solution for x-game series at p: \")\n",
    "print('probability of winning best-of-7: {:.3f}'.format(prob_win))"
   ]
  },
  {
   "cell_type": "markdown",
   "metadata": {},
   "source": [
    "**Part B**: How often will an underdog with a winning probability of 45% win a best-of-7 series?  Is this underdog more likely to win a series if it's shorter, say best-of-5 or best-of-3? "
   ]
  },
  {
   "cell_type": "code",
   "execution_count": 8,
   "metadata": {},
   "outputs": [
    {
     "name": "stdout",
     "output_type": "stream",
     "text": [
      "0.42525\n",
      "0.4068731250000001\n",
      "0.3917122031250001\n",
      "0.37857905455078134\n"
     ]
    }
   ],
   "source": [
    "print(prob_win_series(3, 0.45))\n",
    "print(prob_win_series(5, 0.45))\n",
    "print(prob_win_series(7, 0.45))\n",
    "print(prob_win_series(9, 0.45))"
   ]
  },
  {
   "cell_type": "markdown",
   "metadata": {},
   "source": [
    "This example is not particularly realistic because it does not consider home-field advantage.  Typically teams will play better (and thus have a higher probability of winning) when they play at their home field.  Suppose that your team hosts Games 1, 2, 6, and 7 at home, and plays away in Games 3, 4, and 5.  Suppose that when your team plays at home, they win with probability $p = 0.6$ and when they're on the road they win with only probability $q=0.5$.  \n",
    "\n",
    "**Part C**: Is the probability that your team wins $k$ of the $n$ games still well-described by a binomial distribution?  Why or why not?  You might consider reading [this article](https://fivethirtyeight.com/features/why-cant-the-rockies-hit-outside-the-rockies/) for some inspiration, especially if you are a Rockies fan!"
   ]
  },
  {
   "cell_type": "markdown",
   "metadata": {},
   "source": [
    "**Solution:**\n",
    "\n",
    "Not really, because the probability of winning varies from location to location, depending on whether your team is playing at home or away.  There are also probably environmental factors that come into play.  For example, it is rumored that the thinner air in Denver makes it a tougher baseball park to pitch in, and an easier park to hit home runs in."
   ]
  },
  {
   "cell_type": "markdown",
   "metadata": {},
   "source": [
    "Parts D & E are $\\color{red}{\\text{optional}}$. If you are interested in a more serious determination of winning a series, then try out parts D and E below. These concepts will not be assessed.\n",
    "\n",
    "**Part D**: What is the probability that your team wins the 7-game series under the above (above part C) conditions?\n",
    "\n",
    "The best way to tackle this problem is probably to work out a few smaller probabilities by hand, and then write some code to calculate the probabilities in general.  Also, you may find the `itertools` package useful, specifically the [`itertools.combinations` method](https://docs.python.org/3/library/itertools.html#itertools.combinations)."
   ]
  },
  {
   "cell_type": "markdown",
   "metadata": {},
   "source": [
    "**Solution:**\n",
    "\n",
    "**Win on 4th game:**\n",
    "\n",
    "$P(4) = p^2 \\cdot q^2$\n",
    "\n",
    "**Win on the 5th game:**\n",
    "\n",
    "$P(5) = q \\times$ probability of winning 3 out of the first 4 games"
   ]
  },
  {
   "cell_type": "code",
   "execution_count": 9,
   "metadata": {},
   "outputs": [
    {
     "name": "stdout",
     "output_type": "stream",
     "text": [
      "P(Win Best-of-7 Homefield) = 0.108\n"
     ]
    }
   ],
   "source": [
    "import itertools\n",
    "\n",
    "def prob_win_on_game_k(n, k, p, q, loc_probs):\n",
    "    games_to_win = n//2 + 1\n",
    "    cum_prob = 0\n",
    "    for combo in itertools.combinations(range(k-1), games_to_win-1):\n",
    "        win_indices = list(combo) + [k-1]\n",
    "        win_probs = [loc_probs[ii] for ii in win_indices]\n",
    "        loss_indices = list(set(range(k))-set(win_indices))\n",
    "        loss_probs = [1-loc_probs[ii] for ii in loss_indices]\n",
    "        cum_prob += np.prod(win_probs+loss_probs)\n",
    "    return cum_prob \n",
    "\n",
    "p, q = 0.6, 0.5\n",
    "loc_probs = np.array([p, p, q, q, q, p, p])\n",
    "prob_win = np.sum([prob_win_on_game_k(n, k, p, q, loc_probs) for k in range(4,8)])\n",
    "print(\"P(Win Best-of-7 Homefield) = {:.3f}\".format(prob_win))"
   ]
  },
  {
   "cell_type": "markdown",
   "metadata": {},
   "source": [
    "**Part E**: Now suppose that the teams are evenly matched in the sense that your team wins with probability $p=0.55$ when playing at home and wins with only probability $q = (1-p) = 0.45$ when playing away.  How much of a difference does home-field advantage make? "
   ]
  },
  {
   "cell_type": "code",
   "execution_count": 10,
   "metadata": {},
   "outputs": [
    {
     "name": "stdout",
     "output_type": "stream",
     "text": [
      "P(Win Best-of-7 Homefield) = 0.066\n"
     ]
    }
   ],
   "source": [
    "# Solution:\n",
    "\n",
    "p, q = 0.55, 0.45\n",
    "loc_probs = np.array([p, p, q, q, q, p, p])\n",
    "prob_win = np.sum([prob_win_on_game_k(n, k, p, q, loc_probs) for k in range(4,8)])\n",
    "print(\"P(Win Best-of-7 Homefield) = {:.3f}\".format(prob_win))"
   ]
  },
  {
   "cell_type": "markdown",
   "metadata": {},
   "source": [
    "If the teams are relatively evenly matched, which team starts at home/away does not appear to make much of a difference.  That's good!"
   ]
  },
  {
   "cell_type": "code",
   "execution_count": null,
   "metadata": {},
   "outputs": [],
   "source": []
  }
 ],
 "metadata": {
  "kernelspec": {
   "display_name": "Python 3",
   "language": "python",
   "name": "python3"
  },
  "language_info": {
   "codemirror_mode": {
    "name": "ipython",
    "version": 3
   },
   "file_extension": ".py",
   "mimetype": "text/x-python",
   "name": "python",
   "nbconvert_exporter": "python",
   "pygments_lexer": "ipython3",
   "version": "3.6.5"
  }
 },
 "nbformat": 4,
 "nbformat_minor": 2
}
